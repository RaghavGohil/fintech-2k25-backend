{
 "cells": [
  {
   "cell_type": "code",
   "execution_count": null,
   "metadata": {},
   "outputs": [
    {
     "name": "stderr",
     "output_type": "stream",
     "text": [
      "CV Folds:  10%|█         | 1/10 [04:35<41:18, 275.34s/it]"
     ]
    },
    {
     "name": "stdout",
     "output_type": "stream",
     "text": [
      "\n",
      "--- Classification Report for Fold 1 ---\n",
      "              precision    recall  f1-score   support\n",
      "\n",
      "           1       0.99      1.00      1.00     97025\n",
      "           2       0.97      0.77      0.86      2975\n",
      "\n",
      "    accuracy                           0.99    100000\n",
      "   macro avg       0.98      0.88      0.93    100000\n",
      "weighted avg       0.99      0.99      0.99    100000\n",
      "\n"
     ]
    },
    {
     "name": "stderr",
     "output_type": "stream",
     "text": [
      "CV Folds:  20%|██        | 2/10 [09:18<37:17, 279.74s/it]"
     ]
    },
    {
     "name": "stdout",
     "output_type": "stream",
     "text": [
      "\n",
      "--- Classification Report for Fold 2 ---\n",
      "              precision    recall  f1-score   support\n",
      "\n",
      "           1       0.99      1.00      1.00     97025\n",
      "           2       0.96      0.79      0.87      2975\n",
      "\n",
      "    accuracy                           0.99    100000\n",
      "   macro avg       0.98      0.90      0.93    100000\n",
      "weighted avg       0.99      0.99      0.99    100000\n",
      "\n"
     ]
    },
    {
     "name": "stderr",
     "output_type": "stream",
     "text": [
      "CV Folds:  30%|███       | 3/10 [14:07<33:07, 283.95s/it]"
     ]
    },
    {
     "name": "stdout",
     "output_type": "stream",
     "text": [
      "\n",
      "--- Classification Report for Fold 3 ---\n",
      "              precision    recall  f1-score   support\n",
      "\n",
      "           1       0.99      1.00      1.00     97025\n",
      "           2       0.97      0.78      0.86      2975\n",
      "\n",
      "    accuracy                           0.99    100000\n",
      "   macro avg       0.98      0.89      0.93    100000\n",
      "weighted avg       0.99      0.99      0.99    100000\n",
      "\n"
     ]
    },
    {
     "name": "stderr",
     "output_type": "stream",
     "text": [
      "CV Folds:  40%|████      | 4/10 [18:44<28:06, 281.17s/it]"
     ]
    },
    {
     "name": "stdout",
     "output_type": "stream",
     "text": [
      "\n",
      "--- Classification Report for Fold 4 ---\n",
      "              precision    recall  f1-score   support\n",
      "\n",
      "           1       0.99      1.00      1.00     97024\n",
      "           2       0.97      0.78      0.86      2976\n",
      "\n",
      "    accuracy                           0.99    100000\n",
      "   macro avg       0.98      0.89      0.93    100000\n",
      "weighted avg       0.99      0.99      0.99    100000\n",
      "\n"
     ]
    },
    {
     "name": "stderr",
     "output_type": "stream",
     "text": [
      "CV Folds:  50%|█████     | 5/10 [23:54<24:18, 291.72s/it]"
     ]
    },
    {
     "name": "stdout",
     "output_type": "stream",
     "text": [
      "\n",
      "--- Classification Report for Fold 5 ---\n",
      "              precision    recall  f1-score   support\n",
      "\n",
      "           1       0.99      1.00      1.00     97024\n",
      "           2       0.97      0.78      0.86      2976\n",
      "\n",
      "    accuracy                           0.99    100000\n",
      "   macro avg       0.98      0.89      0.93    100000\n",
      "weighted avg       0.99      0.99      0.99    100000\n",
      "\n"
     ]
    }
   ],
   "source": [
    "import pandas as pd\n",
    "from sklearn.ensemble import RandomForestClassifier\n",
    "from sklearn.model_selection import StratifiedKFold\n",
    "from sklearn.metrics import classification_report\n",
    "from tqdm import tqdm\n",
    "\n",
    "# ----------------------------\n",
    "# 1. Load the Dataset (Data is already cleaned)\n",
    "# ----------------------------\n",
    "file_path = \"million2.csv\"  # Adjust the file path if necessary\n",
    "df = pd.read_csv(file_path)\n",
    "\n",
    "# ----------------------------\n",
    "# 2. Define Features and Target\n",
    "# ----------------------------\n",
    "target_column = \"Is Fraud?\"\n",
    "X = df.drop(columns=[target_column])\n",
    "y = df[target_column].astype(int)\n",
    "\n",
    "# ----------------------------\n",
    "# 3. Set Up 10-Fold Stratified Cross-Validation with TQDM\n",
    "# ----------------------------\n",
    "skf = StratifiedKFold(n_splits=10, shuffle=True, random_state=42)\n",
    "fold = 1\n",
    "\n",
    "for train_index, test_index in tqdm(skf.split(X, y), total=10, desc=\"CV Folds\"):\n",
    "    # Split data into training and testing sets for the current fold\n",
    "    X_train = X.iloc[train_index]\n",
    "    X_test = X.iloc[test_index]\n",
    "    y_train = y.iloc[train_index]\n",
    "    y_test = y.iloc[test_index]\n",
    "    \n",
    "    # ----------------------------\n",
    "    # 4. Train the Random Forest Classifier (CPU only)\n",
    "    # ----------------------------\n",
    "    clf = RandomForestClassifier(random_state=42)\n",
    "    clf.fit(X_train, y_train)\n",
    "    \n",
    "    # ----------------------------\n",
    "    # 5. Make Predictions on the Test Set\n",
    "    # ----------------------------\n",
    "    y_pred = clf.predict(X_test)\n",
    "    \n",
    "    # ----------------------------\n",
    "    # 6. Print the Classification Report for the Current Fold\n",
    "    # ----------------------------\n",
    "    print(f\"\\n--- Classification Report for Fold {fold} ---\")\n",
    "    print(classification_report(y_test, y_pred))\n",
    "    fold += 1\n"
   ]
  },
  {
   "cell_type": "code",
   "execution_count": null,
   "metadata": {},
   "outputs": [],
   "source": []
  }
 ],
 "metadata": {
  "kernelspec": {
   "display_name": "main",
   "language": "python",
   "name": "python3"
  },
  "language_info": {
   "codemirror_mode": {
    "name": "ipython",
    "version": 3
   },
   "file_extension": ".py",
   "mimetype": "text/x-python",
   "name": "python",
   "nbconvert_exporter": "python",
   "pygments_lexer": "ipython3",
   "version": "3.9.21"
  }
 },
 "nbformat": 4,
 "nbformat_minor": 2
}
